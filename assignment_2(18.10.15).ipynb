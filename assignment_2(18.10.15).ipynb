{
 "cells": [
  {
   "cell_type": "markdown",
   "metadata": {},
   "source": [
    "1) 다음 6개의 Expression 에 대해 Evaluation 결과 값을 출력하고, 해당 결과가 나온 이유에 대해 설명하시오\n",
    " - 1 and 2 and 3 and 4\n",
    " - 1 or 2 or 3 or 4\n",
    " - 1 and 2 or 3 and 4\n",
    " - (1 and 2) or (3 and 4)\n",
    " - 1 or 2 and 3 or 4\n",
    " - (1 or 2) and (3 or 4)"
   ]
  },
  {
   "cell_type": "code",
   "execution_count": 56,
   "metadata": {},
   "outputs": [
    {
     "name": "stdout",
     "output_type": "stream",
     "text": [
      "4\n"
     ]
    }
   ],
   "source": [
    "print(1 and 2 and 3 and 4)"
   ]
  },
  {
   "cell_type": "markdown",
   "metadata": {},
   "source": [
    "논리 연산자는 자체가 값을 반환하는 것이 아닌 논리 연산을 따라 최종적으로 평가 되어진 값이 반환되기 때문에 1 and 2 하면 2, 2 and 3 하면 3, 3 and 4 하면 4로 출력된다."
   ]
  },
  {
   "cell_type": "code",
   "execution_count": 57,
   "metadata": {},
   "outputs": [
    {
     "name": "stdout",
     "output_type": "stream",
     "text": [
      "1\n"
     ]
    }
   ],
   "source": [
    "print(1 or 2 or 3 or 4)"
   ]
  },
  {
   "cell_type": "markdown",
   "metadata": {},
   "source": [
    "or 는 맨 앞에 오는 숫자가 참이면 뒷조건은 보지 않기 때문에 1이 출력된다."
   ]
  },
  {
   "cell_type": "code",
   "execution_count": 58,
   "metadata": {
    "scrolled": false
   },
   "outputs": [
    {
     "name": "stdout",
     "output_type": "stream",
     "text": [
      "2\n"
     ]
    }
   ],
   "source": [
    "print(1 and 2 or 3 and 4)"
   ]
  },
  {
   "cell_type": "markdown",
   "metadata": {},
   "source": [
    "1 and 2 하면 2 이고, or 앞에 오는 숫자가 2이므로 2가 출력된다."
   ]
  },
  {
   "cell_type": "code",
   "execution_count": 59,
   "metadata": {},
   "outputs": [
    {
     "name": "stdout",
     "output_type": "stream",
     "text": [
      "2\n"
     ]
    }
   ],
   "source": [
    "print((1 and 2) or (3 and 4))"
   ]
  },
  {
   "cell_type": "markdown",
   "metadata": {},
   "source": [
    "괄호를 먼저 계산하면 1 and 2 는 2, 3 and 4 는 4, 2 or 4 는 2 이므로 2가 출력된다."
   ]
  },
  {
   "cell_type": "code",
   "execution_count": 60,
   "metadata": {
    "scrolled": true
   },
   "outputs": [
    {
     "name": "stdout",
     "output_type": "stream",
     "text": [
      "1\n"
     ]
    }
   ],
   "source": [
    "print(1 or 2 and 3 or 4)"
   ]
  },
  {
   "cell_type": "markdown",
   "metadata": {},
   "source": [
    "or 앞에 1이 오기 때문에 뒷조건을 보지 않고 1이 출력된다."
   ]
  },
  {
   "cell_type": "code",
   "execution_count": 61,
   "metadata": {
    "scrolled": true
   },
   "outputs": [
    {
     "name": "stdout",
     "output_type": "stream",
     "text": [
      "3\n"
     ]
    }
   ],
   "source": [
    "print((1 or 2) and (3 or 4))"
   ]
  },
  {
   "cell_type": "markdown",
   "metadata": {},
   "source": [
    "괄호부터 계산하면 1 or 2 는 1이고 3 or 4는 3이다. 1 and 3 은 3이다."
   ]
  },
  {
   "cell_type": "code",
   "execution_count": 62,
   "metadata": {
    "scrolled": false
   },
   "outputs": [
    {
     "name": "stdout",
     "output_type": "stream",
     "text": [
      "['/usr/local/bin', 'python']\n",
      "['/home/chulsoo', 'test.txt']\n"
     ]
    }
   ],
   "source": [
    "def div_path(s):    #함수 정의\n",
    "    s1=s.split('/')  #불러온 변수를 '/' 기준으로 나눈다.\n",
    "    join='/'+'/'.join(s1[1:len(s1)-1])  #나눈 리스트를 '/' 붙여서 저장\n",
    "    l=[]\n",
    "    l.append(join)      #list l 에 첫번째 원소로 join 저장(디렉토리)\n",
    "    l.append(s1[len(s1)-1])   #list l 에 두번째 원소로 s1마지막 원소 저장(파일명)\n",
    "    return l\n",
    "\n",
    "print(div_path('/usr/local/bin/python'))\n",
    "print(div_path('/home/chulsoo/test.txt'))"
   ]
  },
  {
   "cell_type": "code",
   "execution_count": 63,
   "metadata": {
    "scrolled": true
   },
   "outputs": [
    {
     "name": "stdout",
     "output_type": "stream",
     "text": [
      "[1, 2, 3, 4]\n",
      "[-10, -5, -1, 0, 9, 100]\n",
      "[-1, 0, 1, 2]\n"
     ]
    }
   ],
   "source": [
    "def list_union(a, b):\n",
    "    list1 = sorted(set(a+b))\n",
    "    return list1\n",
    "print(list_union([1,2,3],[1,2,4]))\n",
    "print(list_union([-10, -5, 0, -1], [100, 9, 0, 9]))\n",
    "print(list_union([0, 1, -1], [0, 1, 2]))"
   ]
  },
  {
   "cell_type": "markdown",
   "metadata": {},
   "source": [
    "sorted() 함수는 문자열을 정렬하는 함수이고, set()함수는 중복을 체크해 제거하는 함수이다."
   ]
  },
  {
   "cell_type": "code",
   "execution_count": 64,
   "metadata": {
    "scrolled": true
   },
   "outputs": [
    {
     "name": "stdout",
     "output_type": "stream",
     "text": [
      "asdqwertydfgcbv\n",
      "0 13 12 2 5 10 11 -1 -1 -1 -1 -1 -1 -1 -1 -1 3 6 1 7 -1 14 4 -1 8 -1 "
     ]
    }
   ],
   "source": [
    "Input = input() #문자열 입력\n",
    "alphabet=['a','b','c','d','e','f','g','h','i','j','k','l','m','n','o','p','q','r','s','t','u','v','w','x','y','z']\n",
    "num={} #-1 저장될 리스트\n",
    "for i in range(26):\n",
    "    num[i]=-1\n",
    "for x in range(len(Input)):\n",
    "    for y in range(len(alphabet)):#이중반복문\n",
    "        if Input[x]==alphabet[y]: #검사하려는 문자가 해당 알파벳일때\n",
    "            if num[y]==-1: # 해당 알파벳이면서 -1일때 (중복을 제외)\n",
    "                num[y]=x #문자열에 몇번째에 있는지 저장\n",
    "for z in range(26):\n",
    "    print(num[z], end=\" \") # 반복해서 출력"
   ]
  },
  {
   "cell_type": "markdown",
   "metadata": {},
   "source": [
    "![](https://raw.githubusercontent.com/ohsehan/script-HW/master/HW%202/%EB%B0%B1%EC%A4%801.jpg)"
   ]
  },
  {
   "cell_type": "code",
   "execution_count": 65,
   "metadata": {
    "scrolled": false
   },
   "outputs": [
    {
     "name": "stdout",
     "output_type": "stream",
     "text": [
      "2\n",
      "3 ABC\n",
      "AAABBBCCC\n",
      "5 /HTP\n",
      "/////HHHHHTTTTTPPPPP\n"
     ]
    }
   ],
   "source": [
    "case = int(input())\n",
    "\n",
    "for i in range(case): #문자열 입력받은 만큼 반복\n",
    "    string = input().split() #문자열을 공백단위로 나눔\n",
    "    for j in range(len(string[1])):\n",
    "        result = string[1][j]*int(string[0]) #string[0]이 문자를 곱할 횟수, string[1]이 문자열\n",
    "        print(result, end=\"\") #바로바로 문자출력\n",
    "    print(\"\")"
   ]
  },
  {
   "cell_type": "markdown",
   "metadata": {},
   "source": [
    "![](https://github.com/ohsehan/script-HW/blob/master/HW%202/%EB%B0%B1%EC%A4%802.jpg?raw=true)"
   ]
  },
  {
   "cell_type": "code",
   "execution_count": 66,
   "metadata": {},
   "outputs": [],
   "source": [
    "import requests\n",
    "\n",
    "req = requests.get('http://cse.koreatech.ac.kr')\n",
    "\n",
    "source = req.text"
   ]
  },
  {
   "cell_type": "code",
   "execution_count": 67,
   "metadata": {},
   "outputs": [
    {
     "name": "stdout",
     "output_type": "stream",
     "text": [
      "497\n"
     ]
    }
   ],
   "source": [
    "while source.find('<')!=-1:              #source에 '<'가 없을때까지 반복\n",
    "    start = source.find('<')             #처음나오는 '<' 위치 저장\n",
    "    end = source.find('>', start)        # '<' 뒤로 나오는 '>' 위치 저장\n",
    "    source=source[:start]+source[end+1:] #source 전반부의 단어들과 <>없애고 난뒤 잔여source코드\n",
    "new = source.split()                     #<>다 지웠으면 앞뒤 공백 제거\n",
    "print(len(new))                          #단어 갯수 세기 후 출력"
   ]
  },
  {
   "cell_type": "markdown",
   "metadata": {},
   "source": [
    "마지막 과제에서 알수없는 오류들이 굉장히 괴롭혔다. 검색을 해도 잘 나오지 않는 부분이라 어떻게 해결해야할지 감이 잡히지 않았는데, 변수를 조금 바꿔주니 해결이 되었다. 그 외에는 처음 문제를 읽을땐 해결방법이 떠오르지 않았는데 천천히 생각하며 손코딩해보니 해결되었다."
   ]
  }
 ],
 "metadata": {
  "kernelspec": {
   "display_name": "Python 3",
   "language": "python",
   "name": "python3"
  },
  "language_info": {
   "codemirror_mode": {
    "name": "ipython",
    "version": 3
   },
   "file_extension": ".py",
   "mimetype": "text/x-python",
   "name": "python",
   "nbconvert_exporter": "python",
   "pygments_lexer": "ipython3",
   "version": "3.6.5"
  }
 },
 "nbformat": 4,
 "nbformat_minor": 2
}
