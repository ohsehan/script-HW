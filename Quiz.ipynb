{
 "cells": [
  {
   "cell_type": "code",
   "execution_count": 43,
   "metadata": {
    "scrolled": true
   },
   "outputs": [
    {
     "name": "stdout",
     "output_type": "stream",
     "text": [
      "5\n",
      "*****\n",
      " ****\n",
      "  ***\n",
      "   **\n",
      "    *\n"
     ]
    }
   ],
   "source": [
    "a=input()\n",
    "a=int(a)\n",
    "for x in range(a): #0부터 a-1만큼 반봅\n",
    "    print(\" \"*(x)+\"*\"*(a-x)) #x만큼 공백 출력 후 a-x만큼 *출력"
   ]
  },
  {
   "cell_type": "markdown",
   "metadata": {},
   "source": [
    "![](https://github.com/ohsehan/script-HW/blob/master/%EB%B0%B1%EC%A4%801.jpg?raw=true)"
   ]
  },
  {
   "cell_type": "code",
   "execution_count": 44,
   "metadata": {},
   "outputs": [
    {
     "name": "stdout",
     "output_type": "stream",
     "text": [
      "ㅁㄴㅇㅁㄴㄹ마ㅓ노ㅓㅇ\n",
      "ㅁㄴㅇㅁㄴㄹ마ㅓ노ㅓ\n",
      "ㅇ"
     ]
    }
   ],
   "source": [
    "a=input() #문자열로 저장\n",
    "b=len(a) #문자열의 길이를 변수에 저장\n",
    "print(a[0], end=\"\")\n",
    "for x in range(1,b): #1부터 b-1까지 반복\n",
    "    if(x%10==0):   #10번째마다 줄을 바꿔줘야함\n",
    "        print(\"\")\n",
    "    print(a[x],end=\"\")"
   ]
  },
  {
   "cell_type": "markdown",
   "metadata": {},
   "source": [
    "![](https://github.com/ohsehan/script-HW/blob/master/%EB%B0%B1%EC%A4%802.jpg?raw=true)"
   ]
  },
  {
   "cell_type": "code",
   "execution_count": 46,
   "metadata": {},
   "outputs": [
    {
     "name": "stdout",
     "output_type": "stream",
     "text": [
      "15\n",
      "3\n"
     ]
    }
   ],
   "source": [
    "x=input()\n",
    "x=int(x)\n",
    "a=int(x/5) #x를 5로 나눈 정수형을 a에 저장\n",
    "x=x%5 #x를 5로나눈 나머지를 x에 저장\n",
    "while a>=0:\n",
    "    if(x%3==0): #x가 3으로 나누어 떨어지면\n",
    "        b=int(x/3) #x를 3으로 나눈 정수형을 b에 저장\n",
    "        x=x%3 #x를 3으로나눈 나머지를 x에 저장\n",
    "        break #if문이 실행되면 a와 b로 나눠떨어지는 수를 찾은것이므로 반복에서 빠져나온다\n",
    "    a-=1 #16을 예로 들으면 5로 3번나누면 나누어떨어지지 않지만 5로 2번 3으로 2번 나누면 나누어떨어지기 때문에\n",
    "    x+=5 #5만큼 빼서 3으로도 나누어 보는 과정이다.\n",
    "if(x==0):\n",
    "    print(a+b)\n",
    "else:\n",
    "    print(\"-1\") #마지막까지 나누어떨어지지 않을때"
   ]
  },
  {
   "cell_type": "markdown",
   "metadata": {},
   "source": [
    "![](https://github.com/ohsehan/script-HW/blob/master/%EB%B0%B1%EC%A4%803.jpg?raw=true)"
   ]
  },
  {
   "cell_type": "code",
   "execution_count": null,
   "metadata": {},
   "outputs": [],
   "source": []
  }
 ],
 "metadata": {
  "kernelspec": {
   "display_name": "Python 3",
   "language": "python",
   "name": "python3"
  },
  "language_info": {
   "codemirror_mode": {
    "name": "ipython",
    "version": 3
   },
   "file_extension": ".py",
   "mimetype": "text/x-python",
   "name": "python",
   "nbconvert_exporter": "python",
   "pygments_lexer": "ipython3",
   "version": "3.6.5"
  }
 },
 "nbformat": 4,
 "nbformat_minor": 2
}
